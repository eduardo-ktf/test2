{
  "nbformat": 4,
  "nbformat_minor": 0,
  "metadata": {
    "colab": {
      "provenance": [],
      "toc_visible": true,
      "authorship_tag": "ABX9TyOUz/AAxC9DegrpCLlagM6T"
    },
    "kernelspec": {
      "name": "python3",
      "display_name": "Python 3"
    },
    "language_info": {
      "name": "python"
    }
  },
  "cells": [
    {
      "cell_type": "code",
      "source": [
        "print(\"hi\")"
      ],
      "metadata": {
        "colab": {
          "base_uri": "https://localhost:8080/"
        },
        "id": "vfx6dZ46cgZN",
        "outputId": "5007ca3b-6583-492a-f986-7c10962d8d37"
      },
      "execution_count": null,
      "outputs": [
        {
          "output_type": "stream",
          "name": "stdout",
          "text": [
            "hi\n"
          ]
        }
      ]
    },
    {
      "cell_type": "markdown",
      "source": [
        "[link text](https://)# New section"
      ],
      "metadata": {
        "id": "1tF2tPzYMB3X"
      }
    },
    {
      "cell_type": "code",
      "source": [],
      "metadata": {
        "id": "gOM4r3Jw9m8u"
      },
      "execution_count": null,
      "outputs": []
    },
    {
      "cell_type": "markdown",
      "source": [],
      "metadata": {
        "id": "NgdJ4AZM9ute"
      }
    },
    {
      "cell_type": "code",
      "execution_count": null,
      "metadata": {
        "colab": {
          "base_uri": "https://localhost:8080/",
          "height": 35
        },
        "id": "DRgiUhHxb4fK",
        "outputId": "2323169b-eced-41c3-a163-61ef53b442cf"
      },
      "outputs": [
        {
          "output_type": "execute_result",
          "data": {
            "text/plain": [
              "'t'"
            ],
            "application/vnd.google.colaboratory.intrinsic+json": {
              "type": "string"
            }
          },
          "metadata": {},
          "execution_count": 14
        }
      ],
      "source": [
        "s[0]"
      ]
    },
    {
      "cell_type": "code",
      "source": [
        "x=0\n",
        "if x%2==0:\n",
        "  print(\"even\")\n",
        "else:\n",
        "  print(\"odd\")\n"
      ],
      "metadata": {
        "colab": {
          "base_uri": "https://localhost:8080/"
        },
        "id": "b_s6A86p91jZ",
        "outputId": "5c3e437b-b00f-4cbc-aff8-993875b22223"
      },
      "execution_count": 4,
      "outputs": [
        {
          "output_type": "stream",
          "name": "stdout",
          "text": [
            "even\n"
          ]
        }
      ]
    },
    {
      "cell_type": "code",
      "source": [
        "x=.1\n",
        "if x>0:\n",
        "  print(\"positive\")\n",
        "elif x<0:\n",
        "  print(\"negative\")\n",
        "else:\n",
        "  print(\"neither\")\n"
      ],
      "metadata": {
        "colab": {
          "base_uri": "https://localhost:8080/"
        },
        "id": "j8bPfppo_Q4K",
        "outputId": "9e02c56f-9e5e-49d9-a995-f4b5122b0988"
      },
      "execution_count": 9,
      "outputs": [
        {
          "output_type": "stream",
          "name": "stdout",
          "text": [
            "positive\n"
          ]
        }
      ]
    },
    {
      "cell_type": "code",
      "source": [
        "for i in range(0,6):\n",
        "  print(\"the number is {}.\".format(i))\n"
      ],
      "metadata": {
        "colab": {
          "base_uri": "https://localhost:8080/"
        },
        "id": "XexUq22qDX5k",
        "outputId": "4cb3e1cf-3360-4ed4-b32b-ce746466d2ce"
      },
      "execution_count": 11,
      "outputs": [
        {
          "output_type": "stream",
          "name": "stdout",
          "text": [
            "the number is 0.\n",
            "the number is 1.\n",
            "the number is 2.\n",
            "the number is 3.\n",
            "the number is 4.\n",
            "the number is 5.\n"
          ]
        }
      ]
    },
    {
      "cell_type": "code",
      "source": [
        "for i in range(0,6):\n",
        "  if i in range(3,5):\n",
        "    continue\n",
        "  print(\"the number is {}.\".format(i))\n"
      ],
      "metadata": {
        "colab": {
          "base_uri": "https://localhost:8080/"
        },
        "id": "fAkThj4VRQpU",
        "outputId": "883d6f4c-7ad4-4730-ac80-840677a4b964"
      },
      "execution_count": 23,
      "outputs": [
        {
          "output_type": "stream",
          "name": "stdout",
          "text": [
            "the number is 0.\n",
            "the number is 1.\n",
            "the number is 2.\n",
            "the number is 5.\n"
          ]
        }
      ]
    },
    {
      "cell_type": "code",
      "source": [
        "i=0\n",
        "while i<6:\n",
        "  print(i)\n",
        "  i=i+1\n",
        "print(\"end\")"
      ],
      "metadata": {
        "colab": {
          "base_uri": "https://localhost:8080/"
        },
        "id": "pNZRO0vaErlU",
        "outputId": "99e47d91-7d1a-4cc2-b559-20bcc497b60b"
      },
      "execution_count": 15,
      "outputs": [
        {
          "output_type": "stream",
          "name": "stdout",
          "text": [
            "0\n",
            "1\n",
            "2\n",
            "3\n",
            "4\n",
            "5\n",
            "end\n"
          ]
        }
      ]
    },
    {
      "cell_type": "code",
      "source": [
        "mylist=[\"First\", \"Second\", \"Third\", 4, True]\n",
        "print(mylist, len(mylist))\n",
        "mylist.insert(1,\"Added\")\n",
        "print(mylist, len(mylist))\n"
      ],
      "metadata": {
        "colab": {
          "base_uri": "https://localhost:8080/"
        },
        "id": "qnGysYtyYk9k",
        "outputId": "e06127a7-9d86-4a9e-ce14-b33a25205a9a"
      },
      "execution_count": 38,
      "outputs": [
        {
          "output_type": "stream",
          "name": "stdout",
          "text": [
            "['First', 'Second', 'Third', 4, True] 5\n",
            "['First', 'Added', 'Second', 'Third', 4, True] 6\n"
          ]
        }
      ]
    },
    {
      "cell_type": "code",
      "source": [
        "mylist=[\"First\", \"Second\", \"Third\", 4, True]\n",
        "print(mylist, len(mylist))\n",
        "mylist.append(\"appended\")\n",
        "print(mylist, len(mylist))"
      ],
      "metadata": {
        "colab": {
          "base_uri": "https://localhost:8080/"
        },
        "id": "n2-RZEFcbI_c",
        "outputId": "d797f456-196f-49c9-8551-f58f09a88691"
      },
      "execution_count": 39,
      "outputs": [
        {
          "output_type": "stream",
          "name": "stdout",
          "text": [
            "['First', 'Second', 'Third', 4, True] 5\n",
            "['First', 'Second', 'Third', 4, True, 'appended'] 6\n"
          ]
        }
      ]
    },
    {
      "cell_type": "code",
      "source": [
        "mylist1=[\"First\", \"Second\", \"Third\", 4, True]\n",
        "print(mylist1, len(mylist1))\n",
        "mylist2=[\"Second1\", \"Second2\", \"Second3\"]\n",
        "print(mylist2, len(mylist2))\n",
        "mylist1.extend(mylist2)\n",
        "print(mylist)\n",
        "print(mylist1)\n",
        "print(mylist2)\n",
        "mylist1.remove(\"Second\")\n",
        "print(mylist1)\n",
        "mylist1.pop()\n",
        "print(mylist1)\n",
        "mylist1.sort()\n",
        "print(mylist)\n"
      ],
      "metadata": {
        "colab": {
          "base_uri": "https://localhost:8080/"
        },
        "id": "Ha7RJuAJbZc4",
        "outputId": "e75a8a98-b375-4d96-c68d-44ad670e8113"
      },
      "execution_count": 46,
      "outputs": [
        {
          "output_type": "stream",
          "name": "stdout",
          "text": [
            "['First', 'Second', 'Third', 4, True] 5\n",
            "['Second1', 'Second2', 'Second3'] 3\n",
            "None\n",
            "['First', 'Second', 'Third', 4, True, 'Second1', 'Second2', 'Second3']\n",
            "['Second1', 'Second2', 'Second3']\n",
            "['First', 'Third', 4, True, 'Second1', 'Second2', 'Second3']\n",
            "['First', 'Third', 4, True, 'Second1', 'Second2']\n"
          ]
        }
      ]
    },
    {
      "cell_type": "code",
      "source": [
        "mylist1=[\"First\", \"Second\", \"Third\", 4, True]\n",
        "print(mylist1, len(mylist1))\n",
        "mylist2=[\"Second1\", \"Second2\", \"Second3\"]\n",
        "print(mylist2, len(mylist2))\n",
        "mylist = mylist1 + mylist2\n",
        "print(mylist)"
      ],
      "metadata": {
        "colab": {
          "base_uri": "https://localhost:8080/"
        },
        "id": "ibSwBy8ZfCJ3",
        "outputId": "69d84ee4-18b7-46e8-c221-1f0817dedcb8"
      },
      "execution_count": 54,
      "outputs": [
        {
          "output_type": "stream",
          "name": "stdout",
          "text": [
            "['First', 'Second', 'Third', 4, True] 5\n",
            "['Second1', 'Second2', 'Second3'] 3\n",
            "['First', 'Second', 'Third', 4, True, 'Second1', 'Second2', 'Second3']\n"
          ]
        }
      ]
    },
    {
      "cell_type": "code",
      "source": [
        "mylist = [1, 2, 5, 6]\n",
        "print(mylist)\n",
        "element = input(\"input element\")\n",
        "elementnum=int(element)\n",
        "if elementnum in mylist:\n",
        "  print (\"already taken\")\n",
        "else:\n",
        "  mylist.append(elementnum)\n",
        "  mylist.sort()\n",
        "  for item in mylist:\n",
        "    print (item)"
      ],
      "metadata": {
        "colab": {
          "base_uri": "https://localhost:8080/"
        },
        "id": "tZA7A1zlgjnL",
        "outputId": "875cd80f-dbca-4c77-ccae-260230565734"
      },
      "execution_count": 61,
      "outputs": [
        {
          "output_type": "stream",
          "name": "stdout",
          "text": [
            "[1, 2, 5, 6]\n",
            "input element3\n",
            "1\n",
            "2\n",
            "3\n",
            "5\n",
            "6\n"
          ]
        }
      ]
    },
    {
      "cell_type": "code",
      "source": [
        "a=[1,2,3,4,5,6,7]\n",
        "b=[i*2 for i in a]\n",
        "print(b)"
      ],
      "metadata": {
        "colab": {
          "base_uri": "https://localhost:8080/"
        },
        "id": "5o2RMRTnnKbO",
        "outputId": "203d52a1-efca-4704-f3b4-9b39052bdd79"
      },
      "execution_count": 62,
      "outputs": [
        {
          "output_type": "stream",
          "name": "stdout",
          "text": [
            "[2, 4, 6, 8, 10, 12, 14]\n"
          ]
        }
      ]
    },
    {
      "cell_type": "code",
      "source": [
        "a=[1,2,3,4,5,6,7]\n",
        "b=[i for i in a if i%2==0]\n",
        "print(b)"
      ],
      "metadata": {
        "colab": {
          "base_uri": "https://localhost:8080/"
        },
        "id": "c3ALi3ljo_N2",
        "outputId": "a2d0e027-51a4-4662-c544-ab7133bb8eed"
      },
      "execution_count": 69,
      "outputs": [
        {
          "output_type": "stream",
          "name": "stdout",
          "text": [
            "[2, 4, 6]\n"
          ]
        }
      ]
    },
    {
      "cell_type": "code",
      "source": [
        "t=\"Python\"\n",
        "u=[c.upper() for c in t]\n",
        "print(u)"
      ],
      "metadata": {
        "colab": {
          "base_uri": "https://localhost:8080/"
        },
        "id": "ewz2HWAnp825",
        "outputId": "2c4ac05a-a4ed-4d00-ad5d-882f1e54bbd1"
      },
      "execution_count": 72,
      "outputs": [
        {
          "output_type": "stream",
          "name": "stdout",
          "text": [
            "['P', 'Y', 'T', 'H', 'O', 'N']\n"
          ]
        }
      ]
    },
    {
      "cell_type": "code",
      "source": [
        "mylist=[1,2,[10,20], 4, 5]\n",
        "for i in mylist:\n",
        "  print(i)\n",
        "print(mylist[2][1])"
      ],
      "metadata": {
        "colab": {
          "base_uri": "https://localhost:8080/",
          "height": 288
        },
        "id": "vSy_SdbFq8FN",
        "outputId": "0d2c9d64-583d-4130-f08a-754771108a95"
      },
      "execution_count": 77,
      "outputs": [
        {
          "output_type": "stream",
          "name": "stdout",
          "text": [
            "1\n",
            "2\n",
            "[10, 20]\n",
            "4\n",
            "5\n"
          ]
        },
        {
          "output_type": "error",
          "ename": "TypeError",
          "evalue": "ignored",
          "traceback": [
            "\u001b[0;31m---------------------------------------------------------------------------\u001b[0m",
            "\u001b[0;31mTypeError\u001b[0m                                 Traceback (most recent call last)",
            "\u001b[0;32m<ipython-input-77-57b7f5dd6616>\u001b[0m in \u001b[0;36m<module>\u001b[0;34m\u001b[0m\n\u001b[1;32m      2\u001b[0m \u001b[0;32mfor\u001b[0m \u001b[0mi\u001b[0m \u001b[0;32min\u001b[0m \u001b[0mmylist\u001b[0m\u001b[0;34m:\u001b[0m\u001b[0;34m\u001b[0m\u001b[0;34m\u001b[0m\u001b[0m\n\u001b[1;32m      3\u001b[0m   \u001b[0mprint\u001b[0m\u001b[0;34m(\u001b[0m\u001b[0mi\u001b[0m\u001b[0;34m)\u001b[0m\u001b[0;34m\u001b[0m\u001b[0;34m\u001b[0m\u001b[0m\n\u001b[0;32m----> 4\u001b[0;31m \u001b[0mprint\u001b[0m\u001b[0;34m(\u001b[0m\u001b[0mmylist\u001b[0m\u001b[0;34m[\u001b[0m\u001b[0;36m1\u001b[0m\u001b[0;34m]\u001b[0m\u001b[0;34m[\u001b[0m\u001b[0;36m1\u001b[0m\u001b[0;34m]\u001b[0m\u001b[0;34m)\u001b[0m\u001b[0;34m\u001b[0m\u001b[0;34m\u001b[0m\u001b[0m\n\u001b[0m",
            "\u001b[0;31mTypeError\u001b[0m: 'int' object is not subscriptable"
          ]
        }
      ]
    },
    {
      "cell_type": "code",
      "source": [
        "matrix=[[1,2,3], [4,5,6], [7,8,9], [0]]\n",
        "for i in matrix:\n",
        "  print(i, len(i))"
      ],
      "metadata": {
        "colab": {
          "base_uri": "https://localhost:8080/"
        },
        "id": "Rbww5jcdsjPr",
        "outputId": "3db910c6-e790-4b2f-fc5d-7bdb019febc9"
      },
      "execution_count": 80,
      "outputs": [
        {
          "output_type": "stream",
          "name": "stdout",
          "text": [
            "[1, 2, 3] 3\n",
            "[4, 5, 6] 3\n",
            "[7, 8, 9] 3\n",
            "[0] 1\n"
          ]
        }
      ]
    },
    {
      "cell_type": "code",
      "source": [
        "matrix=[[1,2,3], [4,5,6], [7,8,9], [10,11,12]]\n",
        "rows=len(matrix)\n",
        "#for i in matrix:\n",
        "#  print(i, len(i))\n",
        "for j in range (0,rows):\n",
        "  print(matrix[j])"
      ],
      "metadata": {
        "colab": {
          "base_uri": "https://localhost:8080/"
        },
        "id": "Bigi9AJ2t29U",
        "outputId": "8f9beaab-00fe-4e44-ce56-b02c176f13f4"
      },
      "execution_count": 84,
      "outputs": [
        {
          "output_type": "stream",
          "name": "stdout",
          "text": [
            "[1, 2, 3]\n",
            "[4, 5, 6]\n",
            "[7, 8, 9]\n",
            "[10, 11, 12]\n"
          ]
        }
      ]
    },
    {
      "cell_type": "code",
      "source": [
        "matrix=[[1,2,3], [4,5,6], [7,8,9], [10,11,12]]\n",
        "rows=len(matrix)\n",
        "for i in range(0,rows):\n",
        "  cols=len(matrix[i])\n",
        "  for j in range(0,cols):\n",
        "    print(matrix[i][j],end=\" \")\n"
      ],
      "metadata": {
        "colab": {
          "base_uri": "https://localhost:8080/"
        },
        "id": "Z7g4ZqtAvqPG",
        "outputId": "0845d8a4-184c-4157-824b-e5fdba17d91d"
      },
      "execution_count": 86,
      "outputs": [
        {
          "output_type": "stream",
          "name": "stdout",
          "text": [
            "1 2 3 4 5 6 7 8 9 10 11 12 "
          ]
        }
      ]
    },
    {
      "cell_type": "code",
      "source": [
        "\n",
        "mylist=[\"First\", \"Second\", \"Third\", \"Fourth\", \"Fifth\", \"Sixth\"]\n",
        "print(mylist)\n",
        "mylist.sort()\n",
        "print(mylist)\n",
        "mylist.sort(reverse=True)\n",
        "print(mylist)\n",
        "mylist.reverse()\n",
        "print(mylist)\n"
      ],
      "metadata": {
        "colab": {
          "base_uri": "https://localhost:8080/"
        },
        "id": "ERVjJKuLdH1j",
        "outputId": "d84ee01c-0304-4735-b507-faae9da75676"
      },
      "execution_count": 53,
      "outputs": [
        {
          "output_type": "stream",
          "name": "stdout",
          "text": [
            "['First', 'Second', 'Third', 'Fourth', 'Fifth', 'Sixth']\n",
            "['Fifth', 'First', 'Fourth', 'Second', 'Sixth', 'Third']\n",
            "['Third', 'Sixth', 'Second', 'Fourth', 'First', 'Fifth']\n",
            "['Fifth', 'First', 'Fourth', 'Second', 'Sixth', 'Third']\n"
          ]
        }
      ]
    },
    {
      "cell_type": "code",
      "source": [
        "\n",
        "ivalue=0\n",
        "tvalue=5\n",
        "while ivalue<tvalue:\n",
        "  print(\"ivalue is {}, which is less than {}\".format(ivalue, tvalue))\n",
        "  ivalue=ivalue+1\n"
      ],
      "metadata": {
        "colab": {
          "base_uri": "https://localhost:8080/"
        },
        "id": "INTElsEDF11U",
        "outputId": "7b314973-6ed3-42a3-b5d0-c09f56b54661"
      },
      "execution_count": 17,
      "outputs": [
        {
          "output_type": "stream",
          "name": "stdout",
          "text": [
            "ivalue is 0, which is less than 5\n",
            "ivalue is 1, which is less than 5\n",
            "ivalue is 2, which is less than 5\n",
            "ivalue is 3, which is less than 5\n",
            "ivalue is 4, which is less than 5\n"
          ]
        }
      ]
    },
    {
      "cell_type": "code",
      "source": [
        "ivalue=0\n",
        "tvalue=5\n",
        "while ivalue<tvalue:\n",
        "  print(\"ivalue is\", ivalue, \"which is less than\", tvalue)\n",
        "  ivalue=ivalue+1\n"
      ],
      "metadata": {
        "colab": {
          "base_uri": "https://localhost:8080/"
        },
        "id": "PQKF0yMYIYjx",
        "outputId": "a16675c8-e5e6-4c0c-91c1-946d229f3748"
      },
      "execution_count": 18,
      "outputs": [
        {
          "output_type": "stream",
          "name": "stdout",
          "text": [
            "ivalue is 0 which is less than 5\n",
            "ivalue is 1 which is less than 5\n",
            "ivalue is 2 which is less than 5\n",
            "ivalue is 3 which is less than 5\n",
            "ivalue is 4 which is less than 5\n"
          ]
        }
      ]
    },
    {
      "cell_type": "code",
      "source": [
        "colours=[\"red\", \"green\", \"blue\"]\n",
        "brands=[\"ford\", \"renault\", \"mercedes\"]\n",
        "for color in colours:\n",
        "  for car in brands:\n",
        "    print (color, car)\n"
      ],
      "metadata": {
        "colab": {
          "base_uri": "https://localhost:8080/"
        },
        "id": "dsDhKEaRJ79A",
        "outputId": "3abc44dc-a1bd-4551-8246-712bc327c755"
      },
      "execution_count": 19,
      "outputs": [
        {
          "output_type": "stream",
          "name": "stdout",
          "text": [
            "red ford\n",
            "red renault\n",
            "red mercedes\n",
            "green ford\n",
            "green renault\n",
            "green mercedes\n",
            "blue ford\n",
            "blue renault\n",
            "blue mercedes\n"
          ]
        }
      ]
    },
    {
      "cell_type": "code",
      "source": [
        "for i in range(1,5):\n",
        "  for j in range(1,11):\n",
        "    print (i, \"x\", j, \"is\", i*j)\n",
        "    "
      ],
      "metadata": {
        "colab": {
          "base_uri": "https://localhost:8080/"
        },
        "id": "7ALo1u1-Kr-F",
        "outputId": "9e9fb6bf-b5f6-4e56-e3be-5743b3260dbc"
      },
      "execution_count": 20,
      "outputs": [
        {
          "output_type": "stream",
          "name": "stdout",
          "text": [
            "1 x 1 is 1\n",
            "1 x 2 is 2\n",
            "1 x 3 is 3\n",
            "1 x 4 is 4\n",
            "1 x 5 is 5\n",
            "1 x 6 is 6\n",
            "1 x 7 is 7\n",
            "1 x 8 is 8\n",
            "1 x 9 is 9\n",
            "1 x 10 is 10\n",
            "2 x 1 is 2\n",
            "2 x 2 is 4\n",
            "2 x 3 is 6\n",
            "2 x 4 is 8\n",
            "2 x 5 is 10\n",
            "2 x 6 is 12\n",
            "2 x 7 is 14\n",
            "2 x 8 is 16\n",
            "2 x 9 is 18\n",
            "2 x 10 is 20\n",
            "3 x 1 is 3\n",
            "3 x 2 is 6\n",
            "3 x 3 is 9\n",
            "3 x 4 is 12\n",
            "3 x 5 is 15\n",
            "3 x 6 is 18\n",
            "3 x 7 is 21\n",
            "3 x 8 is 24\n",
            "3 x 9 is 27\n",
            "3 x 10 is 30\n",
            "4 x 1 is 4\n",
            "4 x 2 is 8\n",
            "4 x 3 is 12\n",
            "4 x 4 is 16\n",
            "4 x 5 is 20\n",
            "4 x 6 is 24\n",
            "4 x 7 is 28\n",
            "4 x 8 is 32\n",
            "4 x 9 is 36\n",
            "4 x 10 is 40\n"
          ]
        }
      ]
    },
    {
      "cell_type": "code",
      "source": [],
      "metadata": {
        "id": "717BY178D-Br"
      },
      "execution_count": null,
      "outputs": []
    }
  ]
}